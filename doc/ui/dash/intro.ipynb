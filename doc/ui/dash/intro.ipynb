{
 "cells": [
  {
   "cell_type": "markdown",
   "metadata": {},
   "source": [
    "# Dash 简介\n",
    "\n",
    "\n",
    "````{admonition} 导航\n",
    ":class: tip, dropdown; w3-pale-blue w3-card-4 w3-padding w3-round-xlarge w3-margin-top\n",
    "\n",
    "`Dash` 是 Plotly 开源的 `Python`（以及 [R](https://dashr.plotly.com/) 和 [Julia](https://github.com/plotly/dash.jl) 等）框架，用于使用纯 Python（不需要 `JavaScript`）构建全栈分析 web 应用程序。得益于 [Dash DevTools](https://dash.plotly.com/devtools) 提供的热加载和前端错误报告等功能，开发者可以使用传统的文本编辑器或集成开发环境(IDE)快速迭代应用设计。\n",
    "````"
   ]
  },
  {
   "cell_type": "markdown",
   "metadata": {},
   "source": [
    "参考：[Introduction | Dash for Python Documentation | Plotly](https://dash.plotly.com/introduction)\n",
    "\n",
    "Dash 通过一些简单的模式，抽象出构建基于 Web 的交互式应用程序所需的所有技术和协议。Dash 非常简单，您可以在一个下午就将用户界面绑定到您的 Python 代码中。\n",
    "\n",
    "Dash 应用程序在网络浏览器中呈现。您可以将应用程序部署到服务器上，然后通过 URL 共享它们。由于 Dash 应用是在网页浏览器中查看的，因此 Dash 天生就具备跨平台和移动功能。\n",
    "\n",
    "Dash 应用程序由两部分组成：\n",
    "\n",
    "1. 应用程序的布局。它描述了应用程序的外观。\n",
    "2. 应用程序的交互性。\n",
    "\n",
    "## 安装\n",
    "\n",
    "在你的终端，安装 `dash`：\n",
    "\n",
    "```sh\n",
    "pip install dash\n",
    "```\n",
    "\n",
    "这带来了构成 Dash 核心的三个组件库：`html`、`dcc`、`dash_table` 以及 `plotly` 图形库。这些库正在积极开发中，所以要经常安装和升级。\n",
    "\n",
    "\n",
    "Dash 为应用程序的所有可视化组件提供了 Python 类。在 `dcc` 和 `html` 库中维护了一组组件，但也可以用 JavaScript 和 React.js [构建自己的组件](https://github.com/plotly/dash-component-boilerplate)。\n"
   ]
  }
 ],
 "metadata": {
  "kernelspec": {
   "display_name": "py311",
   "language": "python",
   "name": "python3"
  },
  "language_info": {
   "name": "python",
   "version": "3.11.7"
  }
 },
 "nbformat": 4,
 "nbformat_minor": 2
}
