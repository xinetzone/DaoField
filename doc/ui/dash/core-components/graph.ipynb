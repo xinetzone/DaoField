{
 "cells": [
  {
   "cell_type": "markdown",
   "metadata": {},
   "source": [
    "(dash:dcc/graph)=\n",
    "# `dcc.Graph`\n",
    "\n",
    "参考：[dcc.Graph | Dash for Python Documentation | Plotly](https://dash.plotly.com/dash-core-components/graph)\n",
    "\n",
    "`dcc.Graph` 组件可用于呈现作为 `figure` 参数传递的任何图形支持的数据可视化。\n",
    "\n",
    "## Plotly 图形库入门\n",
    "\n",
    "[Plotly 图形库](https://plotly.com/python/)，即 `plotly` 包，生成“图”。这些是在 `dcc.Graph` 中被使用，例如，`dcc.Graph(figure=fig)` 中的 `fig` 即是 plotly 图。\n",
    "\n",
    "要开始有条理地学习 plotly，需要了解它的文档是如何组织的：\n",
    "\n",
    "1. 学习图形的架构：[创建和更新图形](https://plot.ly/python/creating-and-updating-figures/)。\n",
    "2. 每种图表类型都有一组位于唯一 URL 的示例。熟悉这些页面的结构。例如“Plotly Python柱状图”在 <https://plot.ly/python/histogram>。\n",
    "3. [Plotly Express](https://plot.ly/python-api-reference/plotly.express.html) 是推荐的高级接口。通过阅读1来理解它。一旦您理解了它的结构，您可以在“API参考”页中看到所有的参数。\n",
    "4. 图表的每个方面都是可配置的。通读1，了解底层图形界面以及如何修改生成图形的属性。一旦你理解了它，通过访问“[图参考](https://plot.ly/python/reference)”页面来查看所有的属性。\n",
    "5. 如果你不能用 `px` 轻松生成图形，那么通过阅读1来学习`graph_objects`结构，并通过[图参考](https://plot.ly/python/reference)理解图的结构。"
   ]
  },
  {
   "cell_type": "markdown",
   "metadata": {},
   "source": [
    "## Plotly Express(Dash)\n",
    "\n",
    "`fig` 对象被直接传递到 `dcc.Graph` 的 `figure` 属性中："
   ]
  },
  {
   "cell_type": "code",
   "execution_count": 1,
   "metadata": {},
   "outputs": [],
   "source": [
    "from dash import dcc\n",
    "import plotly.express as px\n",
    "\n",
    "df = px.data.iris() # iris 是 pandas DataFrame\n",
    "fig = px.scatter(df, x=\"sepal_width\", y=\"sepal_length\")\n",
    "\n",
    "graph = dcc.Graph(figure=fig)"
   ]
  },
  {
   "cell_type": "code",
   "execution_count": 2,
   "metadata": {
    "tags": [
     "remove-input"
    ]
   },
   "outputs": [
    {
     "data": {
      "application/vnd.jupyter.widget-view+json": {
       "model_id": "875bdccb932d4077a0a84cd25a7cb754",
       "version_major": 2,
       "version_minor": 0
      },
      "text/plain": [
       "FigureWidget({\n",
       "    'data': [{'hovertemplate': 'sepal_width=%{x}<br>sepal_length=%{y}<extra></extra>',\n",
       "              'legendgroup': '',\n",
       "              'marker': {'color': '#636efa', 'symbol': 'circle'},\n",
       "              'mode': 'markers',\n",
       "              'name': '',\n",
       "              'orientation': 'v',\n",
       "              'showlegend': False,\n",
       "              'type': 'scatter',\n",
       "              'uid': 'f19d297e-41f4-4bd2-8871-aefc59da6861',\n",
       "              'x': array([3.5, 3. , 3.2, 3.1, 3.6, 3.9, 3.4, 3.4, 2.9, 3.1, 3.7, 3.4, 3. , 3. ,\n",
       "                          4. , 4.4, 3.9, 3.5, 3.8, 3.8, 3.4, 3.7, 3.6, 3.3, 3.4, 3. , 3.4, 3.5,\n",
       "                          3.4, 3.2, 3.1, 3.4, 4.1, 4.2, 3.1, 3.2, 3.5, 3.1, 3. , 3.4, 3.5, 2.3,\n",
       "                          3.2, 3.5, 3.8, 3. , 3.8, 3.2, 3.7, 3.3, 3.2, 3.2, 3.1, 2.3, 2.8, 2.8,\n",
       "                          3.3, 2.4, 2.9, 2.7, 2. , 3. , 2.2, 2.9, 2.9, 3.1, 3. , 2.7, 2.2, 2.5,\n",
       "                          3.2, 2.8, 2.5, 2.8, 2.9, 3. , 2.8, 3. , 2.9, 2.6, 2.4, 2.4, 2.7, 2.7,\n",
       "                          3. , 3.4, 3.1, 2.3, 3. , 2.5, 2.6, 3. , 2.6, 2.3, 2.7, 3. , 2.9, 2.9,\n",
       "                          2.5, 2.8, 3.3, 2.7, 3. , 2.9, 3. , 3. , 2.5, 2.9, 2.5, 3.6, 3.2, 2.7,\n",
       "                          3. , 2.5, 2.8, 3.2, 3. , 3.8, 2.6, 2.2, 3.2, 2.8, 2.8, 2.7, 3.3, 3.2,\n",
       "                          2.8, 3. , 2.8, 3. , 2.8, 3.8, 2.8, 2.8, 2.6, 3. , 3.4, 3.1, 3. , 3.1,\n",
       "                          3.1, 3.1, 2.7, 3.2, 3.3, 3. , 2.5, 3. , 3.4, 3. ]),\n",
       "              'xaxis': 'x',\n",
       "              'y': array([5.1, 4.9, 4.7, 4.6, 5. , 5.4, 4.6, 5. , 4.4, 4.9, 5.4, 4.8, 4.8, 4.3,\n",
       "                          5.8, 5.7, 5.4, 5.1, 5.7, 5.1, 5.4, 5.1, 4.6, 5.1, 4.8, 5. , 5. , 5.2,\n",
       "                          5.2, 4.7, 4.8, 5.4, 5.2, 5.5, 4.9, 5. , 5.5, 4.9, 4.4, 5.1, 5. , 4.5,\n",
       "                          4.4, 5. , 5.1, 4.8, 5.1, 4.6, 5.3, 5. , 7. , 6.4, 6.9, 5.5, 6.5, 5.7,\n",
       "                          6.3, 4.9, 6.6, 5.2, 5. , 5.9, 6. , 6.1, 5.6, 6.7, 5.6, 5.8, 6.2, 5.6,\n",
       "                          5.9, 6.1, 6.3, 6.1, 6.4, 6.6, 6.8, 6.7, 6. , 5.7, 5.5, 5.5, 5.8, 6. ,\n",
       "                          5.4, 6. , 6.7, 6.3, 5.6, 5.5, 5.5, 6.1, 5.8, 5. , 5.6, 5.7, 5.7, 6.2,\n",
       "                          5.1, 5.7, 6.3, 5.8, 7.1, 6.3, 6.5, 7.6, 4.9, 7.3, 6.7, 7.2, 6.5, 6.4,\n",
       "                          6.8, 5.7, 5.8, 6.4, 6.5, 7.7, 7.7, 6. , 6.9, 5.6, 7.7, 6.3, 6.7, 7.2,\n",
       "                          6.2, 6.1, 6.4, 7.2, 7.4, 7.9, 6.4, 6.3, 6.1, 7.7, 6.3, 6.4, 6. , 6.9,\n",
       "                          6.7, 6.9, 5.8, 6.8, 6.7, 6.7, 6.3, 6.5, 6.2, 5.9]),\n",
       "              'yaxis': 'y'}],\n",
       "    'layout': {'legend': {'tracegroupgap': 0},\n",
       "               'margin': {'t': 60},\n",
       "               'template': '...',\n",
       "               'xaxis': {'anchor': 'y', 'domain': [0.0, 1.0], 'title': {'text': 'sepal_width'}},\n",
       "               'yaxis': {'anchor': 'x', 'domain': [0.0, 1.0], 'title': {'text': 'sepal_length'}}}\n",
       "})"
      ]
     },
     "execution_count": 2,
     "metadata": {},
     "output_type": "execute_result"
    }
   ],
   "source": [
    "import plotly.graph_objects as go\n",
    "# 展示 fig\n",
    "go.FigureWidget(fig)"
   ]
  },
  {
   "cell_type": "markdown",
   "metadata": {},
   "source": [
    "## 使用带 `go.Figure` 的低级别接口(Dash)\n",
    "\n",
    "阅读以上(1)来了解更多关于 `px` 和 `go.Figure` 之间的区别。"
   ]
  },
  {
   "cell_type": "code",
   "execution_count": 4,
   "metadata": {},
   "outputs": [],
   "source": [
    "import plotly.graph_objs as go\n",
    "fig = go.Figure(data=[go.Scatter(x=[1, 2, 3], y=[4, 1, 2])])\n",
    "graph = dcc.Graph(\n",
    "    id='example-graph-2',\n",
    "    figure=fig\n",
    ")"
   ]
  },
  {
   "cell_type": "code",
   "execution_count": 5,
   "metadata": {
    "tags": [
     "remove-input"
    ]
   },
   "outputs": [
    {
     "data": {
      "application/vnd.jupyter.widget-view+json": {
       "model_id": "03817161b6b84f219ac12560a84e4f50",
       "version_major": 2,
       "version_minor": 0
      },
      "text/plain": [
       "FigureWidget({\n",
       "    'data': [{'type': 'scatter', 'uid': '82e00774-b0a3-44bf-8f5d-efb1d0f8c2f6', 'x': [1, 2, 3], 'y': [4, 1, 2]}],\n",
       "    'layout': {'template': '...'}\n",
       "})"
      ]
     },
     "execution_count": 5,
     "metadata": {},
     "output_type": "execute_result"
    }
   ],
   "source": [
    "import plotly.graph_objects as go\n",
    "# 展示 fig\n",
    "go.FigureWidget(fig)"
   ]
  },
  {
   "cell_type": "markdown",
   "metadata": {},
   "source": [
    "## 使用带字典和列表的低级别接口(Dash)\n",
    "\n",
    "阅读以上(1)来了解更多关于 `px`，`go.Figure` 和 `dicts` & `lists` 之间的区别。\n"
   ]
  },
  {
   "cell_type": "code",
   "execution_count": 6,
   "metadata": {},
   "outputs": [],
   "source": [
    "fig = {\n",
    "    'data': [\n",
    "        {'x': [1, 2, 3], 'y': [4, 1, 2], 'type': 'bar', 'name': 'SF'},\n",
    "        {'x': [1, 2, 3], 'y': [2, 4, 5],\n",
    "         'type': 'bar', 'name': u'Montréal'},\n",
    "    ],\n",
    "    'layout': {\n",
    "        'title': r'Dash Data Visualization'\n",
    "    }\n",
    "}\n",
    "\n",
    "graph = dcc.Graph(\n",
    "    id='example-graph',\n",
    "    figure=fig\n",
    ")"
   ]
  },
  {
   "cell_type": "code",
   "execution_count": 8,
   "metadata": {
    "tags": [
     "remove-input"
    ]
   },
   "outputs": [
    {
     "data": {
      "application/vnd.plotly.v1+json": {
       "config": {
        "plotlyServerURL": "https://plot.ly"
       },
       "data": [
        {
         "name": "SF",
         "type": "bar",
         "x": [
          1,
          2,
          3
         ],
         "y": [
          4,
          1,
          2
         ]
        },
        {
         "name": "Montréal",
         "type": "bar",
         "x": [
          1,
          2,
          3
         ],
         "y": [
          2,
          4,
          5
         ]
        }
       ],
       "layout": {
        "template": {
         "data": {
          "bar": [
           {
            "error_x": {
             "color": "#2a3f5f"
            },
            "error_y": {
             "color": "#2a3f5f"
            },
            "marker": {
             "line": {
              "color": "#E5ECF6",
              "width": 0.5
             },
             "pattern": {
              "fillmode": "overlay",
              "size": 10,
              "solidity": 0.2
             }
            },
            "type": "bar"
           }
          ],
          "barpolar": [
           {
            "marker": {
             "line": {
              "color": "#E5ECF6",
              "width": 0.5
             },
             "pattern": {
              "fillmode": "overlay",
              "size": 10,
              "solidity": 0.2
             }
            },
            "type": "barpolar"
           }
          ],
          "carpet": [
           {
            "aaxis": {
             "endlinecolor": "#2a3f5f",
             "gridcolor": "white",
             "linecolor": "white",
             "minorgridcolor": "white",
             "startlinecolor": "#2a3f5f"
            },
            "baxis": {
             "endlinecolor": "#2a3f5f",
             "gridcolor": "white",
             "linecolor": "white",
             "minorgridcolor": "white",
             "startlinecolor": "#2a3f5f"
            },
            "type": "carpet"
           }
          ],
          "choropleth": [
           {
            "colorbar": {
             "outlinewidth": 0,
             "ticks": ""
            },
            "type": "choropleth"
           }
          ],
          "contour": [
           {
            "colorbar": {
             "outlinewidth": 0,
             "ticks": ""
            },
            "colorscale": [
             [
              0,
              "#0d0887"
             ],
             [
              0.1111111111111111,
              "#46039f"
             ],
             [
              0.2222222222222222,
              "#7201a8"
             ],
             [
              0.3333333333333333,
              "#9c179e"
             ],
             [
              0.4444444444444444,
              "#bd3786"
             ],
             [
              0.5555555555555556,
              "#d8576b"
             ],
             [
              0.6666666666666666,
              "#ed7953"
             ],
             [
              0.7777777777777778,
              "#fb9f3a"
             ],
             [
              0.8888888888888888,
              "#fdca26"
             ],
             [
              1,
              "#f0f921"
             ]
            ],
            "type": "contour"
           }
          ],
          "contourcarpet": [
           {
            "colorbar": {
             "outlinewidth": 0,
             "ticks": ""
            },
            "type": "contourcarpet"
           }
          ],
          "heatmap": [
           {
            "colorbar": {
             "outlinewidth": 0,
             "ticks": ""
            },
            "colorscale": [
             [
              0,
              "#0d0887"
             ],
             [
              0.1111111111111111,
              "#46039f"
             ],
             [
              0.2222222222222222,
              "#7201a8"
             ],
             [
              0.3333333333333333,
              "#9c179e"
             ],
             [
              0.4444444444444444,
              "#bd3786"
             ],
             [
              0.5555555555555556,
              "#d8576b"
             ],
             [
              0.6666666666666666,
              "#ed7953"
             ],
             [
              0.7777777777777778,
              "#fb9f3a"
             ],
             [
              0.8888888888888888,
              "#fdca26"
             ],
             [
              1,
              "#f0f921"
             ]
            ],
            "type": "heatmap"
           }
          ],
          "heatmapgl": [
           {
            "colorbar": {
             "outlinewidth": 0,
             "ticks": ""
            },
            "colorscale": [
             [
              0,
              "#0d0887"
             ],
             [
              0.1111111111111111,
              "#46039f"
             ],
             [
              0.2222222222222222,
              "#7201a8"
             ],
             [
              0.3333333333333333,
              "#9c179e"
             ],
             [
              0.4444444444444444,
              "#bd3786"
             ],
             [
              0.5555555555555556,
              "#d8576b"
             ],
             [
              0.6666666666666666,
              "#ed7953"
             ],
             [
              0.7777777777777778,
              "#fb9f3a"
             ],
             [
              0.8888888888888888,
              "#fdca26"
             ],
             [
              1,
              "#f0f921"
             ]
            ],
            "type": "heatmapgl"
           }
          ],
          "histogram": [
           {
            "marker": {
             "pattern": {
              "fillmode": "overlay",
              "size": 10,
              "solidity": 0.2
             }
            },
            "type": "histogram"
           }
          ],
          "histogram2d": [
           {
            "colorbar": {
             "outlinewidth": 0,
             "ticks": ""
            },
            "colorscale": [
             [
              0,
              "#0d0887"
             ],
             [
              0.1111111111111111,
              "#46039f"
             ],
             [
              0.2222222222222222,
              "#7201a8"
             ],
             [
              0.3333333333333333,
              "#9c179e"
             ],
             [
              0.4444444444444444,
              "#bd3786"
             ],
             [
              0.5555555555555556,
              "#d8576b"
             ],
             [
              0.6666666666666666,
              "#ed7953"
             ],
             [
              0.7777777777777778,
              "#fb9f3a"
             ],
             [
              0.8888888888888888,
              "#fdca26"
             ],
             [
              1,
              "#f0f921"
             ]
            ],
            "type": "histogram2d"
           }
          ],
          "histogram2dcontour": [
           {
            "colorbar": {
             "outlinewidth": 0,
             "ticks": ""
            },
            "colorscale": [
             [
              0,
              "#0d0887"
             ],
             [
              0.1111111111111111,
              "#46039f"
             ],
             [
              0.2222222222222222,
              "#7201a8"
             ],
             [
              0.3333333333333333,
              "#9c179e"
             ],
             [
              0.4444444444444444,
              "#bd3786"
             ],
             [
              0.5555555555555556,
              "#d8576b"
             ],
             [
              0.6666666666666666,
              "#ed7953"
             ],
             [
              0.7777777777777778,
              "#fb9f3a"
             ],
             [
              0.8888888888888888,
              "#fdca26"
             ],
             [
              1,
              "#f0f921"
             ]
            ],
            "type": "histogram2dcontour"
           }
          ],
          "mesh3d": [
           {
            "colorbar": {
             "outlinewidth": 0,
             "ticks": ""
            },
            "type": "mesh3d"
           }
          ],
          "parcoords": [
           {
            "line": {
             "colorbar": {
              "outlinewidth": 0,
              "ticks": ""
             }
            },
            "type": "parcoords"
           }
          ],
          "pie": [
           {
            "automargin": true,
            "type": "pie"
           }
          ],
          "scatter": [
           {
            "fillpattern": {
             "fillmode": "overlay",
             "size": 10,
             "solidity": 0.2
            },
            "type": "scatter"
           }
          ],
          "scatter3d": [
           {
            "line": {
             "colorbar": {
              "outlinewidth": 0,
              "ticks": ""
             }
            },
            "marker": {
             "colorbar": {
              "outlinewidth": 0,
              "ticks": ""
             }
            },
            "type": "scatter3d"
           }
          ],
          "scattercarpet": [
           {
            "marker": {
             "colorbar": {
              "outlinewidth": 0,
              "ticks": ""
             }
            },
            "type": "scattercarpet"
           }
          ],
          "scattergeo": [
           {
            "marker": {
             "colorbar": {
              "outlinewidth": 0,
              "ticks": ""
             }
            },
            "type": "scattergeo"
           }
          ],
          "scattergl": [
           {
            "marker": {
             "colorbar": {
              "outlinewidth": 0,
              "ticks": ""
             }
            },
            "type": "scattergl"
           }
          ],
          "scattermapbox": [
           {
            "marker": {
             "colorbar": {
              "outlinewidth": 0,
              "ticks": ""
             }
            },
            "type": "scattermapbox"
           }
          ],
          "scatterpolar": [
           {
            "marker": {
             "colorbar": {
              "outlinewidth": 0,
              "ticks": ""
             }
            },
            "type": "scatterpolar"
           }
          ],
          "scatterpolargl": [
           {
            "marker": {
             "colorbar": {
              "outlinewidth": 0,
              "ticks": ""
             }
            },
            "type": "scatterpolargl"
           }
          ],
          "scatterternary": [
           {
            "marker": {
             "colorbar": {
              "outlinewidth": 0,
              "ticks": ""
             }
            },
            "type": "scatterternary"
           }
          ],
          "surface": [
           {
            "colorbar": {
             "outlinewidth": 0,
             "ticks": ""
            },
            "colorscale": [
             [
              0,
              "#0d0887"
             ],
             [
              0.1111111111111111,
              "#46039f"
             ],
             [
              0.2222222222222222,
              "#7201a8"
             ],
             [
              0.3333333333333333,
              "#9c179e"
             ],
             [
              0.4444444444444444,
              "#bd3786"
             ],
             [
              0.5555555555555556,
              "#d8576b"
             ],
             [
              0.6666666666666666,
              "#ed7953"
             ],
             [
              0.7777777777777778,
              "#fb9f3a"
             ],
             [
              0.8888888888888888,
              "#fdca26"
             ],
             [
              1,
              "#f0f921"
             ]
            ],
            "type": "surface"
           }
          ],
          "table": [
           {
            "cells": {
             "fill": {
              "color": "#EBF0F8"
             },
             "line": {
              "color": "white"
             }
            },
            "header": {
             "fill": {
              "color": "#C8D4E3"
             },
             "line": {
              "color": "white"
             }
            },
            "type": "table"
           }
          ]
         },
         "layout": {
          "annotationdefaults": {
           "arrowcolor": "#2a3f5f",
           "arrowhead": 0,
           "arrowwidth": 1
          },
          "autotypenumbers": "strict",
          "coloraxis": {
           "colorbar": {
            "outlinewidth": 0,
            "ticks": ""
           }
          },
          "colorscale": {
           "diverging": [
            [
             0,
             "#8e0152"
            ],
            [
             0.1,
             "#c51b7d"
            ],
            [
             0.2,
             "#de77ae"
            ],
            [
             0.3,
             "#f1b6da"
            ],
            [
             0.4,
             "#fde0ef"
            ],
            [
             0.5,
             "#f7f7f7"
            ],
            [
             0.6,
             "#e6f5d0"
            ],
            [
             0.7,
             "#b8e186"
            ],
            [
             0.8,
             "#7fbc41"
            ],
            [
             0.9,
             "#4d9221"
            ],
            [
             1,
             "#276419"
            ]
           ],
           "sequential": [
            [
             0,
             "#0d0887"
            ],
            [
             0.1111111111111111,
             "#46039f"
            ],
            [
             0.2222222222222222,
             "#7201a8"
            ],
            [
             0.3333333333333333,
             "#9c179e"
            ],
            [
             0.4444444444444444,
             "#bd3786"
            ],
            [
             0.5555555555555556,
             "#d8576b"
            ],
            [
             0.6666666666666666,
             "#ed7953"
            ],
            [
             0.7777777777777778,
             "#fb9f3a"
            ],
            [
             0.8888888888888888,
             "#fdca26"
            ],
            [
             1,
             "#f0f921"
            ]
           ],
           "sequentialminus": [
            [
             0,
             "#0d0887"
            ],
            [
             0.1111111111111111,
             "#46039f"
            ],
            [
             0.2222222222222222,
             "#7201a8"
            ],
            [
             0.3333333333333333,
             "#9c179e"
            ],
            [
             0.4444444444444444,
             "#bd3786"
            ],
            [
             0.5555555555555556,
             "#d8576b"
            ],
            [
             0.6666666666666666,
             "#ed7953"
            ],
            [
             0.7777777777777778,
             "#fb9f3a"
            ],
            [
             0.8888888888888888,
             "#fdca26"
            ],
            [
             1,
             "#f0f921"
            ]
           ]
          },
          "colorway": [
           "#636efa",
           "#EF553B",
           "#00cc96",
           "#ab63fa",
           "#FFA15A",
           "#19d3f3",
           "#FF6692",
           "#B6E880",
           "#FF97FF",
           "#FECB52"
          ],
          "font": {
           "color": "#2a3f5f"
          },
          "geo": {
           "bgcolor": "white",
           "lakecolor": "white",
           "landcolor": "#E5ECF6",
           "showlakes": true,
           "showland": true,
           "subunitcolor": "white"
          },
          "hoverlabel": {
           "align": "left"
          },
          "hovermode": "closest",
          "mapbox": {
           "style": "light"
          },
          "paper_bgcolor": "white",
          "plot_bgcolor": "#E5ECF6",
          "polar": {
           "angularaxis": {
            "gridcolor": "white",
            "linecolor": "white",
            "ticks": ""
           },
           "bgcolor": "#E5ECF6",
           "radialaxis": {
            "gridcolor": "white",
            "linecolor": "white",
            "ticks": ""
           }
          },
          "scene": {
           "xaxis": {
            "backgroundcolor": "#E5ECF6",
            "gridcolor": "white",
            "gridwidth": 2,
            "linecolor": "white",
            "showbackground": true,
            "ticks": "",
            "zerolinecolor": "white"
           },
           "yaxis": {
            "backgroundcolor": "#E5ECF6",
            "gridcolor": "white",
            "gridwidth": 2,
            "linecolor": "white",
            "showbackground": true,
            "ticks": "",
            "zerolinecolor": "white"
           },
           "zaxis": {
            "backgroundcolor": "#E5ECF6",
            "gridcolor": "white",
            "gridwidth": 2,
            "linecolor": "white",
            "showbackground": true,
            "ticks": "",
            "zerolinecolor": "white"
           }
          },
          "shapedefaults": {
           "line": {
            "color": "#2a3f5f"
           }
          },
          "ternary": {
           "aaxis": {
            "gridcolor": "white",
            "linecolor": "white",
            "ticks": ""
           },
           "baxis": {
            "gridcolor": "white",
            "linecolor": "white",
            "ticks": ""
           },
           "bgcolor": "#E5ECF6",
           "caxis": {
            "gridcolor": "white",
            "linecolor": "white",
            "ticks": ""
           }
          },
          "title": {
           "x": 0.05
          },
          "xaxis": {
           "automargin": true,
           "gridcolor": "white",
           "linecolor": "white",
           "ticks": "",
           "title": {
            "standoff": 15
           },
           "zerolinecolor": "white",
           "zerolinewidth": 2
          },
          "yaxis": {
           "automargin": true,
           "gridcolor": "white",
           "linecolor": "white",
           "ticks": "",
           "title": {
            "standoff": 15
           },
           "zerolinecolor": "white",
           "zerolinewidth": 2
          }
         }
        },
        "title": {
         "text": "Dash Data Visualization"
        }
       }
      }
     },
     "metadata": {},
     "output_type": "display_data"
    }
   ],
   "source": [
    "from plotly import io as pio\n",
    "\n",
    "pio.show(fig)"
   ]
  },
  {
   "cell_type": "markdown",
   "metadata": {},
   "source": [
    "## 交互式图形与回调\n",
    "\n",
    "[交互式可视化](https://dash.plotly.com/interactive-graphing) 教程解释了如何使用 `dcc.Graph` 捕获用户交互事件，以及如何在回调中更新`figure`属性。\n",
    "\n",
    "一些高级功能被记录在[社区论坛帖子](https://community.plotly.com/)中：\n",
    "\n",
    "- 当在回调更新 Graph 时，如何保存 UI 状态（缩放级别等）：[Preserving UI State, like Zoom, in dcc.Graph with uirevision with Dash](https://community.plotly.com/t/preserving-ui-state-like-zoom-in-dcc-graph-with-uirevision-with-dash/15793)\n",
    "- 图形过渡平滑过渡或图形更新动画：[Exploring a “Transitions” API for dcc.Graph](https://community.plotly.com/t/exploring-a-transitions-api-for-dcc-graph/15468)\n",
    "\n",
    "## 图形调整和响应性\n",
    "\n",
    "如果您希望图形的大小具有反应性，那么您可以利用相当多的选项。 \n",
    "\n",
    "默认的 `plot.js` 行为指示图形应该随着窗口大小的调整而调整大小。但是，在某些情况下，您可能希望根据其父容器的大小来调整图形的大小。（你可以用样式设置父容器的 `style.height` 和 `style.width` 属性。）\n",
    "\n",
    "`dcc.Graph` 组件的 `responsive` 属性允许你定义你想要的行为。简而言之，它接受 `True`, `False`或 `'auto'` 值：\n",
    "\n",
    "- `True` 强制图形响应窗口和父窗体的大小调整，而不考虑图中的任何其他 `figure.layout` 或 `config`。\n",
    "- `False` 强制图形对窗口和父窗口的大小调整无响应，而不考虑图中的任何其他 `figure.layout` 或 `config`。\n",
    "- `'auto'` 保留遗留行为（大小和大小调整能力由图中指定 `figure.layout` 和 `config.responsive` 的值决定）。\n",
    "\n",
    "## 如何调整效果（高级）\n",
    "\n",
    "`dcc.Graph`的属性可以控制图形大小（`responsive` 除外）的图形有：\n",
    "\n",
    "- `figure.layout.height`：显式设置高度\n",
    "- `figure.layout.width`：显式设置宽度\n",
    "- `figure.layout.autosize`：如果为 `True`，则将图形的高度和宽度设置为其父容器的高度和宽度\n",
    "- `config.responsive`：如果为 `True`，则在窗口大小调整时更改图形的高度和宽度\n",
    "\n",
    "`responsive` 属性以下列方式与上述属性一起协同：\n",
    "\n",
    "- `True`：`config.responsive` 和 `figure.layout.autosize` 被 `True` 值覆盖，且 `figure.layout.height` 和 `figure.layout.width` 没有设置\n",
    "- `False`：`config.responsive` 和 `figure.layout.autosize` 被 `False` 值覆盖\n",
    "- `'auto'`：plot 的大小决定方式与过去相同（即使用上述四个属性）\n",
    "\n",
    "## Graph 属性\n",
    "\n",
    "`id`（字符串；可选）：该组件的 ID，用于识别回调中的 Dash 组件。ID 需要在应用程序的所有组件中是唯一的。\n",
    "\n",
    "`animate`(布尔；默认为 `False`）：测试版，如果为 `True`，使用 `plot.js` 的 `animate` 函数对动画进行更新处理。\n",
    "\n",
    "`animation_options`（`dict` 类型；默认 `{ frame: { redraw: False, }, transition: { duration: 750, ease: 'cubic-in-out', },}`）：Beta，包含动画设置的对象。仅当 `animate` 为 `True` 时适用。\n",
    "\n",
    "`className`（字符串；可选）：父 div 的 `className`。\n",
    "\n",
    "`clear_on_unhover`(布尔；默认为 `False`）：如果为 `True`, `clear_on_unhover` 将在用户从某个点“解除悬停”时清除 `hoverData` 属性。如果为 `False`，则 `hoverData` 属性将等于从最后一个点开始的悬停数据。\n",
    "\n",
    "`clickAnnotationData`（`dict` 类型；可选）：来自最新点击注释事件的数据。只读的。\n",
    "\n",
    "`clickData`（`dict` 类型；可选）：来自最新单击事件的数据。只读的。\n",
    "\n",
    "`config`（`dict` 类型；可选）：Plotly.js 配置选项。更多信息请参见 [Configuration Options in JavaScript](https://plotly.com/javascript/configuration-options/)。\n",
    "\n",
    "`config` 是一个带键的字典：\n",
    "\n",
    "- `autosizable`（布尔值；可选）：无论 `layout.autosize` 如何，都要自动调整一次大小。（否则使用默认的宽度或高度值）\n",
    "- `displayModeBar`（true, false, 'hover'；可选）：显示模式栏\n",
    "- `displaylogo`（布尔值；可选）：在模式栏的末尾添加 plotly 徽标\n",
    "- `doubleClick`（false, 'reset', 'autosize', 'reset+autosize'；可选）：双击交互\n",
    "- `doubleClickDelay`（数字；可选）：延迟中注册双击事件（毫秒）。最小值为 100，最大值为 1000。默认值是 300。\n",
    "- `editable`（布尔值；可选）：我们可以编辑标题，移动注释等。设置所有的`edits`片段，除非一个单独的 `edits` 配置项覆盖个别部分。\n",
    "- `edits`（`dict` 类型；可选）：一组可编辑的属性。\n",
    "    - `annotationPosition`（布尔值；可选）：注释的主锚，它是文本（如果没有箭头）或箭头（拖动整个东西，使箭头的长度和方向保持不变）。\n",
    "    - `annotationTail`（布尔值；可选）：对于带箭头的注释，改变箭头的长度和方向。\n",
    "    - `annotationText`（布尔值；可选）\n",
    "    - `axisTitleText`（布尔值；可选）\n",
    "    - `colorbarPosition`（布尔值；可选）\n",
    "    - `colorbarTitleText`（布尔值；可选）\n",
    "    - `legendPosition`（布尔值；可选）\n",
    "    - `legendText`（布尔值；可选）：编辑图例中的轨迹名称字段。\n",
    "    - `shapePosition`（布尔值；可选）\n",
    "    - `titleText`（布尔值；可选）：全局 `layout.title`。\n",
    "- `fillFrame`（布尔值；可选）：如果我们做自动大小，我们是填充容器还是屏幕?\n",
    "- `frameMargins`（数字；可选）：如果我们要自动调整大小，请以 plot 大小的百分比设置框边距。\n",
    "- `linkText`（字符串；可选）：出现在 `sendData` 链接中的文本。\n",
    "- `locale`（字符串；可选）：要使用的区域设置。区域可以通过plot提供（即 `locales`），也可以通过在页面上加载它们，参见：<https://github.com/plotly/plotly.js/blob/master/dist/README.md#to-include-localization>\n",
    "- `locales`（`dict` 类型；可选）：本地化定义，如果您选择为它们提供图形，而不是全局注册它们。\n",
    "- **`mapboxAccessToken`** (*boolean | number | string | dict | list*; optional): Mapbox access token (required to plot mapbox trace types) If using an Mapbox Atlas server, set this option to '', so that plotly.js won't attempt to authenticate to the public Mapbox server.\n",
    "- **`modeBarButtons`** (*boolean | number | string | dict | list*; optional): Fully custom mode bar buttons as nested array, where the outer arrays represents button groups, and the inner arrays have buttons config objects or names of default buttons.\n",
    "- **`modeBarButtonsToAdd`** (*list*; optional): Add mode bar button using config objects.\n",
    "- **`modeBarButtonsToRemove`** (*list*; optional): Remove mode bar button by name. All modebar button names at [https://github.com/plotly/plotly.js/blob/master/src/components/modebar/buttons.js](https://github.com/plotly/plotly.js/blob/master/src/components/modebar/buttons.js) Common names include: sendDataToCloud; (2D) zoom2d, pan2d, select2d, lasso2d, zoomIn2d, zoomOut2d, autoScale2d, resetScale2d; (Cartesian) hoverClosestCartesian, hoverCompareCartesian; (3D) zoom3d, pan3d, orbitRotation, tableRotation, handleDrag3d, resetCameraDefault3d, resetCameraLastSave3d, hoverClosest3d; (Geo) zoomInGeo, zoomOutGeo, resetGeo, hoverClosestGeo; hoverClosestGl2d, hoverClosestPie, toggleHover, resetViews.\n",
    "- **`plotGlPixelRatio`** (*number*; optional): Increase the pixel ratio for Gl plot images.\n",
    "- **`plotlyServerURL`** (*string*; optional): Base URL for a Plotly cloud instance, if `showSendToCloud` is enabled.\n",
    "- **`queueLength`** (*number*; optional): Set the length of the undo/redo queue.\n",
    "- **`responsive`** (*boolean*; optional): Whether to change layout size when the window size changes.\n",
    "- **`scrollZoom`** (*boolean*; optional): Mousewheel or two-finger scroll zooms the plot.\n",
    "- **`sendData`** (*boolean*; optional): If we show a link, does it contain data or just link to a plotly file?.\n",
    "- **`showAxisDragHandles`** (*boolean*; optional): Enable axis pan/zoom drag handles.\n",
    "- **`showAxisRangeEntryBoxes`** (*boolean*; optional): Enable direct range entry at the pan/zoom drag points (drag handles must be enabled above).\n",
    "- **`showEditInChartStudio`** (*boolean*; optional): Should we show a modebar button to send this data to a Plotly Chart Studio plot. If both this and showSendToCloud are selected, only showEditInChartStudio will be honored. By default this is False.\n",
    "- **`showLink`** (*boolean*; optional): Link to open this plot in plotly.\n",
    "- **`showSendToCloud`** (*boolean*; optional): Should we include a modebar button to send this data to a Plotly Cloud instance, linked by `plotlyServerURL`. By default this is False.\n",
    "- **`showTips`** (*boolean*; optional): New users see some hints about interactivity.\n",
    "- **`staticPlot`** (*boolean*; optional): No interactivity, for export or image generation.\n",
    "- `toImageButtonOptions` (dict; optional): Modifications to how the toImage modebar button works.\n",
    "    `toImageButtonOptions` is a dict with keys:\n",
    "    - `filename` (string; optional): The name given to the downloaded file.\n",
    "    - `format` (a value equal to: 'jpeg', 'png', 'webp', 'svg'; optional): The file format to create.\n",
    "    - `height` (number; optional): Height of the downloaded file, in px.\n",
    "    - `scale` (number; optional): Extra resolution to give the file after rendering it with the given width and height.\n",
    "    - `width` (number; optional): Width of the downloaded file, in px.\n",
    "- `topojsonURL` (string; optional): URL to topojson files used in geo charts.\n",
    "- `watermark` (boolean; optional): Add the plotly logo even with no modebar.\n",
    "\n",
    "**`extendData`** (*list | dict*; optional): Data that should be appended to existing traces. Has the form `[updateData, traceIndices, maxPoints]`, where `updateData` is an object containing the data to extend, `traceIndices` (optional) is an array of trace indices that should be extended, and `maxPoints` (optional) is either an integer defining the maximum number of points allowed or an object with key:value pairs matching `updateData` Reference the Plotly.extendTraces API for full usage: [https://plotly.com/javascript/plotlyjs-function-reference/#plotlyextendtraces](https://plotly.com/javascript/plotlyjs-function-reference/#plotlyextendtraces).\n",
    "\n",
    "**`figure`** (*dict*; default `{ data: \\[\\], layout: {}, frames: \\[\\],}`): Plotly `figure` object. See schema: [https://plotly.com/javascript/reference](https://plotly.com/javascript/reference) `config` is set separately by the `config` property.\n",
    "\n",
    "`figure` is a dict with keys:\n",
    "\n",
    "- **`data`** (*list of dicts*; optional)\n",
    "\n",
    "- **`frames`** (*list of dicts*; optional)\n",
    "\n",
    "- **`layout`** (*dict*; optional)\n",
    "\n",
    "**`hoverData`** (*dict*; optional): Data from latest hover event. Read-only.\n",
    "\n",
    "**`loading_state`** (*dict*; optional): Object that holds the loading state object coming from dash-renderer.\n",
    "\n",
    "`loading_state` is a dict with keys:\n",
    "\n",
    "- **`component_name`** (*string*; optional): Holds the name of the component that is loading.\n",
    "\n",
    "- **`is_loading`** (*boolean*; optional): Determines if the component is loading or not.\n",
    "\n",
    "- **`prop_name`** (*string*; optional): Holds which property is loading.\n",
    "\n",
    "**`prependData`** (*list | dict*; optional): Data that should be prepended to existing traces. Has the form `[updateData, traceIndices, maxPoints]`, where `updateData` is an object containing the data to prepend, `traceIndices` (optional) is an array of trace indices that should be prepended, and `maxPoints` (optional) is either an integer defining the maximum number of points allowed or an object with key:value pairs matching `updateData` Reference the Plotly.prependTraces API for full usage: [https://plotly.com/javascript/plotlyjs-function-reference/#plotlyprependtraces](https://plotly.com/javascript/plotlyjs-function-reference/#plotlyprependtraces).\n",
    "\n",
    "**`relayoutData`** (*dict*; optional): Data from latest relayout event which occurs when the user zooms or pans on the plot or other layout-level edits. Has the form `{<attr string>: <value>}` describing the changes made. Read-only.\n",
    "\n",
    "**`responsive`** (*a value equal to: true, false, 'auto'*; default `'auto'`): If True, the Plotly.js plot will be fully responsive to window resize and parent element resize event. This is achieved by overriding `config.responsive` to True, `figure.layout.autosize` to True and unsetting `figure.layout.height` and `figure.layout.width`. If False, the Plotly.js plot not be responsive to window resize and parent element resize event. This is achieved by overriding `config.responsive` to False and `figure.layout.autosize` to False. If 'auto' (default), the Graph will determine if the Plotly.js plot can be made fully responsive (True) or not (False) based on the values in `config.responsive`, `figure.layout.autosize`, `figure.layout.height`, `figure.layout.width`. This is the legacy behavior of the Graph component. Needs to be combined with appropriate dimension / styling through the `style` prop to fully take effect.\n",
    "\n",
    "**`restyleData`** (*list*; optional): Data from latest restyle event which occurs when the user toggles a legend item, changes parcoords selections, or other trace-level edits. Has the form `[edits, indices]`, where `edits` is an object `{<attr string>: <value>}` describing the changes made, and `indices` is an array of trace indices that were edited. Read-only.\n",
    "\n",
    "**`selectedData`** (*dict*; optional): Data from latest select event. Read-only.\n",
    "\n",
    "**`style`** (*dict*; optional): Generic style overrides on the plot div.\n"
   ]
  }
 ],
 "metadata": {
  "kernelspec": {
   "display_name": "py311",
   "language": "python",
   "name": "python3"
  },
  "language_info": {
   "codemirror_mode": {
    "name": "ipython",
    "version": 3
   },
   "file_extension": ".py",
   "mimetype": "text/x-python",
   "name": "python",
   "nbconvert_exporter": "python",
   "pygments_lexer": "ipython3",
   "version": "3.11.7"
  }
 },
 "nbformat": 4,
 "nbformat_minor": 2
}
