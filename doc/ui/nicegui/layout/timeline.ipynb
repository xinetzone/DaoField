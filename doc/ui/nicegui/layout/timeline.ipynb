{
 "cells": [
  {
   "cell_type": "markdown",
   "metadata": {},
   "source": [
    "# 时间轴\n",
    "\n",
    "这个元素代表了 Quasar 的 [QTimeline 组件](https://quasar.dev/vue-components/timeline#qtimeline-api)。\n",
    "\n",
    "- `side`：Side（`\"left\"` 或 `\"right\"`；默认：\"`left\"`）。\n",
    "- `layout`：Layout（`\"dense\"`, `\"comfortable\"` 或 `\"loose\"`；默认：`\"dense\"`）。\n",
    "- `color`：图标的颜色。"
   ]
  },
  {
   "cell_type": "code",
   "execution_count": 1,
   "metadata": {},
   "outputs": [],
   "source": [
    "from nicegui import ui\n",
    "\n",
    "with ui.timeline(side='right'):\n",
    "    ui.timeline_entry('Rodja and Falko start working on NiceGUI.',\n",
    "                      title='Initial commit',\n",
    "                      subtitle='May 07, 2021')\n",
    "    ui.timeline_entry('The first PyPI package is released.',\n",
    "                      title='Release of 0.1',\n",
    "                      subtitle='May 14, 2021')\n",
    "    ui.timeline_entry('Large parts are rewritten to remove JustPy '\n",
    "                      'and to upgrade to Vue 3 and Quasar 2.',\n",
    "                      title='Release of 1.0',\n",
    "                      subtitle='December 15, 2022',\n",
    "                      icon='rocket')\n",
    "\n",
    "# ui.run()"
   ]
  },
  {
   "cell_type": "code",
   "execution_count": null,
   "metadata": {},
   "outputs": [],
   "source": []
  }
 ],
 "metadata": {
  "kernelspec": {
   "display_name": "py311",
   "language": "python",
   "name": "python3"
  },
  "language_info": {
   "codemirror_mode": {
    "name": "ipython",
    "version": 3
   },
   "file_extension": ".py",
   "mimetype": "text/x-python",
   "name": "python",
   "nbconvert_exporter": "python",
   "pygments_lexer": "ipython3",
   "version": "3.11.7"
  }
 },
 "nbformat": 4,
 "nbformat_minor": 2
}
