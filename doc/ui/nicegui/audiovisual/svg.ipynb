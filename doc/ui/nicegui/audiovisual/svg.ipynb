{
 "cells": [
  {
   "cell_type": "markdown",
   "metadata": {},
   "source": [
    "# SVG\n",
    "您可以使用 `ui.html` 元素添加可缩放矢量图形。"
   ]
  },
  {
   "cell_type": "code",
   "execution_count": 1,
   "metadata": {},
   "outputs": [
    {
     "data": {
      "text/plain": [
       "<nicegui.elements.html.Html at 0x2875e2efad0>"
      ]
     },
     "execution_count": 1,
     "metadata": {},
     "output_type": "execute_result"
    }
   ],
   "source": [
    "from nicegui import ui\n",
    "\n",
    "content = '''\n",
    "    <svg viewBox=\"0 0 200 200\" width=\"100\" height=\"100\" xmlns=\"http://www.w3.org/2000/svg\">\n",
    "    <circle cx=\"100\" cy=\"100\" r=\"78\" fill=\"#ffde34\" stroke=\"black\" stroke-width=\"3\" />\n",
    "    <circle cx=\"80\" cy=\"85\" r=\"8\" />\n",
    "    <circle cx=\"120\" cy=\"85\" r=\"8\" />\n",
    "    <path d=\"m60,120 C75,150 125,150 140,120\" style=\"fill:none; stroke:black; stroke-width:8; stroke-linecap:round\" />\n",
    "    </svg>'''\n",
    "ui.html(content)\n",
    "\n",
    "# ui.run()"
   ]
  },
  {
   "cell_type": "code",
   "execution_count": null,
   "metadata": {},
   "outputs": [],
   "source": []
  }
 ],
 "metadata": {
  "kernelspec": {
   "display_name": "py311",
   "language": "python",
   "name": "python3"
  },
  "language_info": {
   "codemirror_mode": {
    "name": "ipython",
    "version": 3
   },
   "file_extension": ".py",
   "mimetype": "text/x-python",
   "name": "python",
   "nbconvert_exporter": "python",
   "pygments_lexer": "ipython3",
   "version": "3.11.7"
  }
 },
 "nbformat": 4,
 "nbformat_minor": 2
}
