{
 "cells": [
  {
   "cell_type": "markdown",
   "metadata": {},
   "source": [
    "# 编辑器\n",
    "\n",
    "基于Quasar的[QEditor](https://quasar.dev/vue-components/editor)组件的一个所见即所得编辑器。值是一个包含格式化文本的HTML代码字符串。\n",
    "\n",
    "- `value`: 初始值\n",
    "- `on_change`: 值改变时调用的回调函数"
   ]
  },
  {
   "cell_type": "code",
   "execution_count": 1,
   "metadata": {},
   "outputs": [
    {
     "data": {
      "text/plain": [
       "<nicegui.elements.markdown.Markdown at 0x19e359d7810>"
      ]
     },
     "execution_count": 1,
     "metadata": {},
     "output_type": "execute_result"
    }
   ],
   "source": [
    "from nicegui import ui\n",
    "\n",
    "editor = ui.editor(placeholder='Type something here')\n",
    "ui.markdown().bind_content_from(editor, 'value',\n",
    "                                backward=lambda v: f'HTML code:\\n```\\n{v}\\n```')\n",
    "\n",
    "# ui.run()"
   ]
  },
  {
   "cell_type": "code",
   "execution_count": null,
   "metadata": {},
   "outputs": [],
   "source": []
  }
 ],
 "metadata": {
  "kernelspec": {
   "display_name": "py311",
   "language": "python",
   "name": "python3"
  },
  "language_info": {
   "codemirror_mode": {
    "name": "ipython",
    "version": 3
   },
   "file_extension": ".py",
   "mimetype": "text/x-python",
   "name": "python",
   "nbconvert_exporter": "python",
   "pygments_lexer": "ipython3",
   "version": "3.11.7"
  }
 },
 "nbformat": 4,
 "nbformat_minor": 2
}
