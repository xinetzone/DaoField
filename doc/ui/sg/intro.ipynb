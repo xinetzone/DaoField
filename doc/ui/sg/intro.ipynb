{
 "cells": [
  {
   "cell_type": "markdown",
   "metadata": {},
   "source": [
    "# PySimpleGUI 概述\n",
    "\n",
    "PySimpleGUI 将 `tkinter`、`Qt`、`Remi` 和 `WxPython` 转换为便携的、对用户友好的 Pythonic 界面。\n",
    "\n",
    "安装\n",
    "```bash\n",
    "pip install pysimplegui\n",
    "```"
   ]
  },
  {
   "cell_type": "markdown",
   "metadata": {},
   "source": []
  }
 ],
 "metadata": {
  "kernelspec": {
   "display_name": "py312",
   "language": "python",
   "name": "python3"
  },
  "language_info": {
   "codemirror_mode": {
    "name": "ipython",
    "version": 3
   },
   "file_extension": ".py",
   "mimetype": "text/x-python",
   "name": "python",
   "nbconvert_exporter": "python",
   "pygments_lexer": "ipython3",
   "version": "3.12.3"
  }
 },
 "nbformat": 4,
 "nbformat_minor": 2
}
