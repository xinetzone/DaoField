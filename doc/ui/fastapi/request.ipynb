{
 "cells": [
  {
   "cell_type": "markdown",
   "metadata": {},
   "source": [
    "# {class}`~starlette.requests.Request`\n",
    "\n",
    "参考：[Request](https://fastapi.tiangolo.com/zh/advanced/using-request-directly/)\n",
    "\n",
    "假设你想在你的路径操作函数中获取客户端的 IP 地址/主机。\n",
    "\n",
    "为此，你需要直接访问请求对象。"
   ]
  },
  {
   "cell_type": "code",
   "execution_count": 1,
   "metadata": {},
   "outputs": [],
   "source": [
    "from fastapi import FastAPI\n",
    "from starlette.requests import Request\n",
    "\n",
    "app = FastAPI()\n",
    "\n",
    "\n",
    "@app.get(\"/items/{item_id}\")\n",
    "def read_root(item_id: str, request: Request):\n",
    "    client_host = request.client.host\n",
    "    return {\"client_host\": client_host, \"item_id\": item_id}"
   ]
  },
  {
   "cell_type": "markdown",
   "metadata": {},
   "source": [
    "通过声明路径操作函数参数，并将其类型设置为 {class}`~starlette.requests.Request`，FastAPI 就会知道将 {class}`~starlette.requests.Request` 传递给那个参数。"
   ]
  },
  {
   "cell_type": "code",
   "execution_count": 2,
   "metadata": {},
   "outputs": [
    {
     "name": "stderr",
     "output_type": "stream",
     "text": [
      "INFO:     Started server process [7008]\n",
      "INFO:     Waiting for application startup.\n",
      "INFO:     Application startup complete.\n",
      "INFO:     Uvicorn running on http://127.0.0.1:3001 (Press CTRL+C to quit)\n"
     ]
    },
    {
     "name": "stdout",
     "output_type": "stream",
     "text": [
      "INFO:     127.0.0.1:60786 - \"GET / HTTP/1.1\" 404 Not Found\n",
      "INFO:     127.0.0.1:60787 - \"GET /items/ HTTP/1.1\" 404 Not Found\n",
      "INFO:     127.0.0.1:60787 - \"GET /items/1 HTTP/1.1\" 200 OK\n"
     ]
    }
   ],
   "source": [
    "if __name__ == \"__main__\":\n",
    "    import asyncio\n",
    "    import uvicorn\n",
    "    config = uvicorn.Config(app, port=3001, reload=False,)\n",
    "    server = uvicorn.Server(config)\n",
    "    loop = asyncio.get_event_loop()\n",
    "    loop.create_task(server.serve())"
   ]
  },
  {
   "cell_type": "code",
   "execution_count": null,
   "metadata": {},
   "outputs": [],
   "source": []
  }
 ],
 "metadata": {
  "kernelspec": {
   "display_name": "py311",
   "language": "python",
   "name": "python3"
  },
  "language_info": {
   "codemirror_mode": {
    "name": "ipython",
    "version": 3
   },
   "file_extension": ".py",
   "mimetype": "text/x-python",
   "name": "python",
   "nbconvert_exporter": "python",
   "pygments_lexer": "ipython3",
   "version": "3.11.7"
  }
 },
 "nbformat": 4,
 "nbformat_minor": 2
}
