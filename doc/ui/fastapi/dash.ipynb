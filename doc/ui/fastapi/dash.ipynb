{
 "cells": [
  {
   "attachments": {},
   "cell_type": "markdown",
   "metadata": {},
   "source": [
    "# FastAPI + Dash\n",
    "\n",
    "首先定义 Dash 子应用："
   ]
  },
  {
   "cell_type": "code",
   "execution_count": null,
   "metadata": {},
   "outputs": [],
   "source": [
    "!pip install -q fastapi uvicorn dash"
   ]
  },
  {
   "cell_type": "code",
   "execution_count": 1,
   "metadata": {},
   "outputs": [],
   "source": [
    "# dashapp.py\n",
    "import dash\n",
    "from dash.dependencies import Input, Output\n",
    "from dash import dcc, html\n",
    "import pandas as pd\n",
    "\n",
    "def create_dash_app(requests_pathname_prefix: str = None) -> dash.Dash:\n",
    "    df = pd.read_csv('https://raw.githubusercontent.com/plotly/datasets/master/hello-world-stock.csv')\n",
    "\n",
    "    app = dash.Dash(__name__, requests_pathname_prefix=requests_pathname_prefix)\n",
    "    app.scripts.config.serve_locally = False\n",
    "    dcc._js_dist[0]['external_url'] = 'https://cdn.plot.ly/plotly-basic-latest.min.js'\n",
    "\n",
    "    app.layout = html.Div([\n",
    "        html.H1('Stock Tickers'),\n",
    "        dcc.Dropdown(\n",
    "            id='my-dropdown',\n",
    "            options=[\n",
    "                {'label': 'Tesla', 'value': 'TSLA'},\n",
    "                {'label': 'Apple', 'value': 'AAPL'},\n",
    "                {'label': 'Coke', 'value': 'COKE'}\n",
    "            ],\n",
    "            value='TSLA'\n",
    "        ),\n",
    "        dcc.Graph(id='my-graph')\n",
    "    ], className=\"container\")\n",
    "\n",
    "    @app.callback(Output('my-graph', 'figure'),\n",
    "                  [Input('my-dropdown', 'value')])\n",
    "    def update_graph(selected_dropdown_value):\n",
    "        dff = df[df['Stock'] == selected_dropdown_value]\n",
    "        return {\n",
    "            'data': [{\n",
    "                'x': dff.Date,\n",
    "                'y': dff.Close,\n",
    "                'line': {\n",
    "                    'width': 3,\n",
    "                    'shape': 'spline'\n",
    "                }\n",
    "            }],\n",
    "            'layout': {\n",
    "                'margin': {\n",
    "                    'l': 30,\n",
    "                    'r': 20,\n",
    "                    'b': 30,\n",
    "                    't': 20\n",
    "                }\n",
    "            }\n",
    "        }\n",
    "    return app"
   ]
  },
  {
   "cell_type": "markdown",
   "metadata": {},
   "source": [
    "主应用："
   ]
  },
  {
   "cell_type": "code",
   "execution_count": 2,
   "metadata": {},
   "outputs": [],
   "source": [
    "from fastapi import FastAPI, Request\n",
    "from fastapi.middleware.wsgi import WSGIMiddleware\n",
    "\n",
    "\n",
    "app = FastAPI()\n",
    "\n",
    "@app.get(\"/\")\n",
    "def read_main():\n",
    "    return {\n",
    "        \"routes\": [\n",
    "            {\"method\": \"GET\", \"path\": \"/\", \"summary\": \"Landing\"},\n",
    "            {\"method\": \"GET\", \"path\": \"/status\", \"summary\": \"App status\"},\n",
    "            {\"method\": \"GET\", \"path\": \"/dash\",\n",
    "                \"summary\": \"Sub-mounted Dash application\"},\n",
    "        ]\n",
    "    }\n",
    "\n",
    "@app.get(\"/status\")\n",
    "def get_status():\n",
    "    return {\"status\": \"ok\"}\n",
    "\n",
    "\n",
    "dash_app = create_dash_app(requests_pathname_prefix=\"/dash/\")\n",
    "app.mount(\"/dash\", WSGIMiddleware(dash_app.server))"
   ]
  },
  {
   "cell_type": "code",
   "execution_count": null,
   "metadata": {},
   "outputs": [
    {
     "name": "stderr",
     "output_type": "stream",
     "text": [
      "INFO:     Started server process [19076]\n",
      "INFO:     Waiting for application startup.\n",
      "INFO:     Application startup complete.\n",
      "INFO:     Uvicorn running on http://127.0.0.1:3004 (Press CTRL+C to quit)\n"
     ]
    }
   ],
   "source": [
    "if __name__ == \"__main__\":\n",
    "    import asyncio\n",
    "    import uvicorn\n",
    "    config = uvicorn.Config(app, port=3004, reload=False,)\n",
    "    server = uvicorn.Server(config)\n",
    "    loop = asyncio.get_event_loop()\n",
    "    loop.create_task(server.serve())"
   ]
  },
  {
   "cell_type": "code",
   "execution_count": null,
   "metadata": {},
   "outputs": [],
   "source": []
  }
 ],
 "metadata": {
  "kernelspec": {
   "display_name": "py310",
   "language": "python",
   "name": "python3"
  },
  "language_info": {
   "codemirror_mode": {
    "name": "ipython",
    "version": 3
   },
   "file_extension": ".py",
   "mimetype": "text/x-python",
   "name": "python",
   "nbconvert_exporter": "python",
   "pygments_lexer": "ipython3",
   "version": "3.11.7"
  },
  "orig_nbformat": 4,
  "vscode": {
   "interpreter": {
    "hash": "7e468feb35f514aafce3cc952fb1f3b43bab876fc14f6450ea05924ae7e4a934"
   }
  }
 },
 "nbformat": 4,
 "nbformat_minor": 2
}
